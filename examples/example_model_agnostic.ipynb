{
 "cells": [
  {
   "cell_type": "markdown",
   "id": "dfd79048-d6a5-4898-821d-80c136169444",
   "metadata": {},
   "source": [
    "## Model Agnostic Ablation Example\n",
    "\n",
    "Currently we only support training full experiments with pytorch models and captum explanations. However, `ablation` can still be utilized to generate ablation curves given a model and set of explanations. \n",
    "\n",
    "Below is an example that creates a new dataset, uses a `RandomForestClassifier` and generates explanations with `shap.TreeExplainer`"
   ]
  },
  {
   "cell_type": "markdown",
   "id": "0ab30171-8a7c-4b13-9d94-02576d4b1b69",
   "metadata": {},
   "source": [
    "### Create Dataset"
   ]
  },
  {
   "cell_type": "markdown",
   "id": "5a3536bb-086a-49ae-882c-c46f3b87a938",
   "metadata": {},
   "source": [
    "Datasets need to come with a few extra attributes to support categorical variables. We have a simple `NumpyDataset` class that holds all the necessary information. "
   ]
  },
  {
   "cell_type": "code",
   "execution_count": 57,
   "id": "52e9ac21-1a2a-4b8a-ab2d-e7c8324b72b2",
   "metadata": {},
   "outputs": [],
   "source": [
    "import pandas as pd\n",
    "import numpy as np\n",
    "from sklearn.compose import ColumnTransformer\n",
    "from sklearn.model_selection import train_test_split\n",
    "from sklearn.preprocessing import OneHotEncoder, StandardScaler\n",
    "from ablation.dataset import NumpyDataset"
   ]
  },
  {
   "cell_type": "code",
   "execution_count": 58,
   "id": "26097c3e-f8e2-4e9a-b580-a63e01caf405",
   "metadata": {},
   "outputs": [],
   "source": [
    "def prepare_german_data():\n",
    "    \"\"\"Prepare German dataset\n",
    "\n",
    "    Returns:\n",
    "        NumpyDataset: dataset\n",
    "    \"\"\"\n",
    "\n",
    "    data = pd.read_csv(\"../ablation/data/MyGermanData.csv\")\n",
    "    X, y = data.drop(\"credit.rating\", axis=1), data[\"credit.rating\"]\n",
    "\n",
    "    cat_ix = X.select_dtypes(include=[\"object\"]).columns\n",
    "    num_ix = X.select_dtypes(exclude=[\"object\"]).columns\n",
    "\n",
    "    X_train, X_test, y_train, y_test = train_test_split(X, y.values.flatten(), test_size=0.2)\n",
    "    encoder = OneHotEncoder()\n",
    "    scaler = StandardScaler()\n",
    "\n",
    "    ct = ColumnTransformer(\n",
    "        [(\"categoricals\", encoder, cat_ix), (\"numericals\", scaler, num_ix)],\n",
    "        remainder=\"passthrough\",\n",
    "        verbose_feature_names_out=False,\n",
    "    )\n",
    "\n",
    "    X_train = ct.fit_transform(X_train)\n",
    "    X_test = ct.transform(X_test)\n",
    "\n",
    "    return NumpyDataset(\n",
    "        X_train=X_train,\n",
    "        y_train=y_train,\n",
    "        X_test=X_test,\n",
    "        y_test=y_test,\n",
    "        n_classes=2,\n",
    "        feature_names=list(ct.get_feature_names_out()),\n",
    "        original_feature_names=cat_ix.tolist() + num_ix.tolist(),\n",
    "    )"
   ]
  },
  {
   "cell_type": "code",
   "execution_count": 59,
   "id": "ae9d4078-48a0-4288-b1ff-2d6d7f2eccee",
   "metadata": {},
   "outputs": [],
   "source": [
    "dataset = prepare_german_data()"
   ]
  },
  {
   "cell_type": "markdown",
   "id": "6d378622-929f-4f2d-8527-6df0c5045817",
   "metadata": {},
   "source": [
    "### Model Fit"
   ]
  },
  {
   "cell_type": "code",
   "execution_count": 60,
   "id": "19b6b965-4224-450f-9356-27fe664410ee",
   "metadata": {},
   "outputs": [],
   "source": [
    "from sklearn.ensemble import RandomForestClassifier"
   ]
  },
  {
   "cell_type": "code",
   "execution_count": 61,
   "id": "b59c0876-7a0f-4fec-b812-7868a402bae1",
   "metadata": {},
   "outputs": [],
   "source": [
    "rf = RandomForestClassifier().fit(dataset.X_train, dataset.y_train)"
   ]
  },
  {
   "cell_type": "markdown",
   "id": "86fa329b-2b9e-476e-b8e4-2b53bb41a59d",
   "metadata": {},
   "source": [
    "### Generate Explanations\n"
   ]
  },
  {
   "cell_type": "code",
   "execution_count": 55,
   "id": "169e6b21-2af4-4800-ad17-c72b7f79c13b",
   "metadata": {},
   "outputs": [],
   "source": [
    "%pip install shap"
   ]
  },
  {
   "cell_type": "code",
   "execution_count": 62,
   "id": "50c1cbdd-8f5c-4a29-a6ed-1a0cc788581a",
   "metadata": {},
   "outputs": [],
   "source": [
    "from shap import TreeExplainer"
   ]
  },
  {
   "cell_type": "code",
   "execution_count": 63,
   "id": "306119ac-6621-49b4-a043-0f09f977efcd",
   "metadata": {},
   "outputs": [],
   "source": [
    "te = TreeExplainer(rf)\n",
    "shap_values = te.shap_values(dataset.X_test)[0]"
   ]
  },
  {
   "cell_type": "markdown",
   "id": "7866869c-9555-4bcc-9108-8c1a3449a24a",
   "metadata": {},
   "source": [
    "### Run Ablation"
   ]
  },
  {
   "cell_type": "code",
   "execution_count": 64,
   "id": "6d33f413-a953-4d1a-bcc6-785086c04008",
   "metadata": {},
   "outputs": [],
   "source": [
    "import seaborn as sns\n",
    "import matplotlib.pyplot as plt\n",
    "from ablation.explanations import Explanations\n",
    "from ablation.perturb import generate_perturbation_distribution\n",
    "from ablation.ablation import Ablation"
   ]
  },
  {
   "cell_type": "markdown",
   "id": "1ca4e959-d7de-4e7f-aebf-e303d5d5a0cd",
   "metadata": {},
   "source": [
    "We need to wrap the explanations in order to move from onehot to aggregated categorical representations. "
   ]
  },
  {
   "cell_type": "code",
   "execution_count": 65,
   "id": "7155e16b-0d76-4651-a3aa-ac48180dbb69",
   "metadata": {},
   "outputs": [],
   "source": [
    "explanations = Explanations(explanation_values=shap_values, agg_map=dataset.agg_map)"
   ]
  },
  {
   "cell_type": "code",
   "execution_count": 66,
   "id": "92b081cf-37b5-4613-9bad-679ba1a0740e",
   "metadata": {},
   "outputs": [
    {
     "name": "stdout",
     "output_type": "stream",
     "text": [
      "(200, 61)\n",
      "(200, 20)\n"
     ]
    }
   ],
   "source": [
    "print(explanations.data(\"sparse\").shape)\n",
    "print(explanations.data(\"dense\").shape)"
   ]
  },
  {
   "cell_type": "markdown",
   "id": "a2fbbd0b-26e9-470d-ac74-90cee03a823b",
   "metadata": {},
   "source": [
    "Generate a perturbation distribution with a given method"
   ]
  },
  {
   "cell_type": "code",
   "execution_count": 67,
   "id": "3c703273-d4e8-4ce8-a70d-21b42ee14e1a",
   "metadata": {},
   "outputs": [],
   "source": [
    "perturbation = generate_perturbation_distribution(\n",
    "    method=\"marginal\", X=dataset.X_train, X_obs=dataset.X_test\n",
    ")"
   ]
  },
  {
   "cell_type": "code",
   "execution_count": 68,
   "id": "6f835d8b-f8c5-4245-88c3-ccd8c2b9e772",
   "metadata": {},
   "outputs": [],
   "source": [
    "abtn = Ablation(\n",
    "    perturbation,\n",
    "    rf,\n",
    "    dataset,\n",
    "    dataset.X_test,\n",
    "    dataset.y_test,\n",
    "    explanations.data(\"sparse\"),\n",
    "    explanations.data(\"dense\"),\n",
    "    random_feat_idx=dataset.dense_random_feat_idx,\n",
    "    scoring_methods=[\"auroc\"],\n",
    "    local=True,\n",
    ")\n",
    "\n",
    "result = abtn.ablate_features()"
   ]
  },
  {
   "cell_type": "code",
   "execution_count": 69,
   "id": "3baa940f-a2f3-44a4-9446-b65e4eda7956",
   "metadata": {},
   "outputs": [
    {
     "data": {
      "image/png": "[encoded data removed]",
      "text/plain": [
       "<Figure size 640x480 with 1 Axes>"
      ]
     },
     "metadata": {},
     "output_type": "display_data"
    }
   ],
   "source": [
    "sns.lineplot(\n",
    "    data=result,\n",
    "    x=\"pct_steps\",\n",
    "    y=\"scores\",\n",
    "    palette=\"colorblind\",\n",
    "    legend=False,\n",
    ")\n",
    "plt.show()"
   ]
  }
 ],
 "metadata": {
  "kernelspec": {
   "display_name": "ablation_test",
   "language": "python",
   "name": "ablation_test"
  },
  "language_info": {
   "codemirror_mode": {
    "name": "ipython",
    "version": 3
   },
   "file_extension": ".py",
   "mimetype": "text/x-python",
   "name": "python",
   "nbconvert_exporter": "python",
   "pygments_lexer": "ipython3",
   "version": "3.8.13"
  }
 },
 "nbformat": 4,
 "nbformat_minor": 5
}
